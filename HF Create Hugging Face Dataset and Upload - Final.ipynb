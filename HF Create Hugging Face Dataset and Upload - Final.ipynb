{
 "cells": [
  {
   "cell_type": "code",
   "execution_count": 1,
   "id": "9f764011-8783-4f6e-b2b7-4657f1718e79",
   "metadata": {},
   "outputs": [
    {
     "name": "stdout",
     "output_type": "stream",
     "text": [
      "Requirement already satisfied: datasets in c:\\users\\k45li\\qsync\\aprojects\\assignment01\\venv\\lib\\site-packages (2.17.1)\n",
      "Requirement already satisfied: filelock in c:\\users\\k45li\\qsync\\aprojects\\assignment01\\venv\\lib\\site-packages (from datasets) (3.13.1)\n",
      "Requirement already satisfied: numpy>=1.17 in c:\\users\\k45li\\qsync\\aprojects\\assignment01\\venv\\lib\\site-packages (from datasets) (1.26.3)\n",
      "Requirement already satisfied: pyarrow>=12.0.0 in c:\\users\\k45li\\qsync\\aprojects\\assignment01\\venv\\lib\\site-packages (from datasets) (15.0.0)\n",
      "Requirement already satisfied: pyarrow-hotfix in c:\\users\\k45li\\qsync\\aprojects\\assignment01\\venv\\lib\\site-packages (from datasets) (0.6)\n",
      "Requirement already satisfied: dill<0.3.9,>=0.3.0 in c:\\users\\k45li\\qsync\\aprojects\\assignment01\\venv\\lib\\site-packages (from datasets) (0.3.8)\n",
      "Requirement already satisfied: pandas in c:\\users\\k45li\\qsync\\aprojects\\assignment01\\venv\\lib\\site-packages (from datasets) (2.2.0)\n",
      "Requirement already satisfied: requests>=2.19.0 in c:\\users\\k45li\\qsync\\aprojects\\assignment01\\venv\\lib\\site-packages (from datasets) (2.31.0)\n",
      "Requirement already satisfied: tqdm>=4.62.1 in c:\\users\\k45li\\qsync\\aprojects\\assignment01\\venv\\lib\\site-packages (from datasets) (4.66.1)\n",
      "Requirement already satisfied: xxhash in c:\\users\\k45li\\qsync\\aprojects\\assignment01\\venv\\lib\\site-packages (from datasets) (3.4.1)\n",
      "Requirement already satisfied: multiprocess in c:\\users\\k45li\\qsync\\aprojects\\assignment01\\venv\\lib\\site-packages (from datasets) (0.70.16)\n",
      "Requirement already satisfied: fsspec<=2023.10.0,>=2023.1.0 in c:\\users\\k45li\\qsync\\aprojects\\assignment01\\venv\\lib\\site-packages (from fsspec[http]<=2023.10.0,>=2023.1.0->datasets) (2023.10.0)\n",
      "Requirement already satisfied: aiohttp in c:\\users\\k45li\\qsync\\aprojects\\assignment01\\venv\\lib\\site-packages (from datasets) (3.9.3)\n",
      "Requirement already satisfied: huggingface-hub>=0.19.4 in c:\\users\\k45li\\qsync\\aprojects\\assignment01\\venv\\lib\\site-packages (from datasets) (0.20.3)\n",
      "Requirement already satisfied: packaging in c:\\users\\k45li\\qsync\\aprojects\\assignment01\\venv\\lib\\site-packages (from datasets) (23.2)\n",
      "Requirement already satisfied: pyyaml>=5.1 in c:\\users\\k45li\\qsync\\aprojects\\assignment01\\venv\\lib\\site-packages (from datasets) (6.0.1)\n",
      "Requirement already satisfied: aiosignal>=1.1.2 in c:\\users\\k45li\\qsync\\aprojects\\assignment01\\venv\\lib\\site-packages (from aiohttp->datasets) (1.3.1)\n",
      "Requirement already satisfied: attrs>=17.3.0 in c:\\users\\k45li\\qsync\\aprojects\\assignment01\\venv\\lib\\site-packages (from aiohttp->datasets) (23.2.0)\n",
      "Requirement already satisfied: frozenlist>=1.1.1 in c:\\users\\k45li\\qsync\\aprojects\\assignment01\\venv\\lib\\site-packages (from aiohttp->datasets) (1.4.1)\n",
      "Requirement already satisfied: multidict<7.0,>=4.5 in c:\\users\\k45li\\qsync\\aprojects\\assignment01\\venv\\lib\\site-packages (from aiohttp->datasets) (6.0.5)\n",
      "Requirement already satisfied: yarl<2.0,>=1.0 in c:\\users\\k45li\\qsync\\aprojects\\assignment01\\venv\\lib\\site-packages (from aiohttp->datasets) (1.9.4)\n",
      "Requirement already satisfied: async-timeout<5.0,>=4.0 in c:\\users\\k45li\\qsync\\aprojects\\assignment01\\venv\\lib\\site-packages (from aiohttp->datasets) (4.0.3)\n",
      "Requirement already satisfied: typing-extensions>=3.7.4.3 in c:\\users\\k45li\\qsync\\aprojects\\assignment01\\venv\\lib\\site-packages (from huggingface-hub>=0.19.4->datasets) (4.9.0)\n",
      "Requirement already satisfied: charset-normalizer<4,>=2 in c:\\users\\k45li\\qsync\\aprojects\\assignment01\\venv\\lib\\site-packages (from requests>=2.19.0->datasets) (3.3.2)\n",
      "Requirement already satisfied: idna<4,>=2.5 in c:\\users\\k45li\\qsync\\aprojects\\assignment01\\venv\\lib\\site-packages (from requests>=2.19.0->datasets) (3.6)\n",
      "Requirement already satisfied: urllib3<3,>=1.21.1 in c:\\users\\k45li\\qsync\\aprojects\\assignment01\\venv\\lib\\site-packages (from requests>=2.19.0->datasets) (2.2.0)\n",
      "Requirement already satisfied: certifi>=2017.4.17 in c:\\users\\k45li\\qsync\\aprojects\\assignment01\\venv\\lib\\site-packages (from requests>=2.19.0->datasets) (2024.2.2)\n",
      "Requirement already satisfied: colorama in c:\\users\\k45li\\qsync\\aprojects\\assignment01\\venv\\lib\\site-packages (from tqdm>=4.62.1->datasets) (0.4.6)\n",
      "Requirement already satisfied: python-dateutil>=2.8.2 in c:\\users\\k45li\\qsync\\aprojects\\assignment01\\venv\\lib\\site-packages (from pandas->datasets) (2.8.2)\n",
      "Requirement already satisfied: pytz>=2020.1 in c:\\users\\k45li\\qsync\\aprojects\\assignment01\\venv\\lib\\site-packages (from pandas->datasets) (2024.1)\n",
      "Requirement already satisfied: tzdata>=2022.7 in c:\\users\\k45li\\qsync\\aprojects\\assignment01\\venv\\lib\\site-packages (from pandas->datasets) (2023.4)\n",
      "Requirement already satisfied: six>=1.5 in c:\\users\\k45li\\qsync\\aprojects\\assignment01\\venv\\lib\\site-packages (from python-dateutil>=2.8.2->pandas->datasets) (1.16.0)\n"
     ]
    },
    {
     "name": "stderr",
     "output_type": "stream",
     "text": [
      "[nltk_data] Downloading package punkt to\n",
      "[nltk_data]     C:\\Users\\k45li\\AppData\\Roaming\\nltk_data...\n",
      "[nltk_data]   Package punkt is already up-to-date!\n",
      "[nltk_data] Downloading package wordnet to\n",
      "[nltk_data]     C:\\Users\\k45li\\AppData\\Roaming\\nltk_data...\n",
      "[nltk_data]   Package wordnet is already up-to-date!\n",
      "[nltk_data] Downloading package stopwords to\n",
      "[nltk_data]     C:\\Users\\k45li\\AppData\\Roaming\\nltk_data...\n",
      "[nltk_data]   Package stopwords is already up-to-date!\n"
     ]
    }
   ],
   "source": [
    "!pip install datasets\n",
    "import pandas as pd\n",
    "#import datasets as ds\n",
    "from datasets import Dataset, DatasetDict\n",
    "import EDAHelper as hlpr\n",
    "#from datasets import train_test_split"
   ]
  },
  {
   "cell_type": "code",
   "execution_count": 2,
   "id": "a569e745-a19e-475e-b15b-6f1f1724003f",
   "metadata": {},
   "outputs": [
    {
     "data": {
      "text/plain": [
       "array(['HR', 'DESIGNER', 'INFORMATION-TECHNOLOGY', 'TEACHER', 'ADVOCATE',\n",
       "       'BUSINESS-DEVELOPMENT', 'HEALTHCARE', 'FITNESS', 'AGRICULTURE',\n",
       "       'BPO', 'SALES', 'CONSULTANT', 'DIGITAL-MEDIA', 'AUTOMOBILE',\n",
       "       'CHEF', 'FINANCE', 'APPAREL', 'ENGINEERING', 'ACCOUNTANT',\n",
       "       'CONSTRUCTION', 'PUBLIC-RELATIONS', 'BANKING', 'ARTS', 'AVIATION'],\n",
       "      dtype=object)"
      ]
     },
     "execution_count": 2,
     "metadata": {},
     "output_type": "execute_result"
    }
   ],
   "source": [
    "df = pd.read_csv('resume.csv')\n",
    "df['Category'].unique()"
   ]
  },
  {
   "cell_type": "code",
   "execution_count": 3,
   "id": "319dfa7e-8e28-47df-a587-25d2c1f63822",
   "metadata": {},
   "outputs": [
    {
     "data": {
      "text/plain": [
       "Category\n",
       "INFORMATION-TECHNOLOGY    120\n",
       "BUSINESS-DEVELOPMENT      120\n",
       "FINANCE                   118\n",
       "ADVOCATE                  118\n",
       "ACCOUNTANT                118\n",
       "ENGINEERING               118\n",
       "CHEF                      118\n",
       "AVIATION                  117\n",
       "FITNESS                   117\n",
       "SALES                     116\n",
       "BANKING                   115\n",
       "HEALTHCARE                115\n",
       "CONSULTANT                115\n",
       "CONSTRUCTION              112\n",
       "PUBLIC-RELATIONS          111\n",
       "HR                        110\n",
       "DESIGNER                  107\n",
       "ARTS                      103\n",
       "TEACHER                   102\n",
       "APPAREL                    97\n",
       "DIGITAL-MEDIA              96\n",
       "AGRICULTURE                63\n",
       "AUTOMOBILE                 36\n",
       "BPO                        22\n",
       "Name: count, dtype: int64"
      ]
     },
     "execution_count": 3,
     "metadata": {},
     "output_type": "execute_result"
    }
   ],
   "source": [
    "df['Category'].value_counts()"
   ]
  },
  {
   "cell_type": "code",
   "execution_count": 4,
   "id": "400a2636-03a3-4c48-bce4-2613b3c1d8bd",
   "metadata": {},
   "outputs": [
    {
     "data": {
      "text/plain": [
       "Index(['ID', 'Resume_str', 'Resume_html', 'Category'], dtype='object')"
      ]
     },
     "execution_count": 4,
     "metadata": {},
     "output_type": "execute_result"
    }
   ],
   "source": [
    "df.columns"
   ]
  },
  {
   "cell_type": "code",
   "execution_count": 5,
   "id": "0659055e-3e4f-4291-8174-e0408df9bedd",
   "metadata": {},
   "outputs": [],
   "source": [
    "# Remove unnecessary columns \n",
    "columns_to_remove = ['ID', 'Resume_html']\n",
    "df = df.drop(columns=columns_to_remove)"
   ]
  },
  {
   "cell_type": "code",
   "execution_count": 6,
   "id": "b7340759-cc62-4a95-98b4-a970d18b484c",
   "metadata": {},
   "outputs": [],
   "source": [
    "# Rename Resume_str to 'Resume\n",
    "df.rename(columns={'Resume_str': 'Resume'}, inplace=True)"
   ]
  },
  {
   "cell_type": "code",
   "execution_count": 7,
   "id": "5f6270c9-b9ec-4f6f-a5cf-a0bc29466340",
   "metadata": {},
   "outputs": [],
   "source": [
    "# Minor cleanup to clear all leading and trailing spaces\n",
    "df['Resume']=df['Resume'].str.strip()"
   ]
  },
  {
   "cell_type": "code",
   "execution_count": 8,
   "id": "1211c1e0-dd5a-48e9-83b1-7d4ac8715af8",
   "metadata": {},
   "outputs": [
    {
     "name": "stdout",
     "output_type": "stream",
     "text": [
      "Row positions containing blank cells or cells with an empty string:\n",
      "[656]\n"
     ]
    }
   ],
   "source": [
    "hlpr.show_blank_cells(df)"
   ]
  },
  {
   "cell_type": "code",
   "execution_count": 9,
   "id": "191185ac-9ba2-492a-a7e5-d4e6c2806f27",
   "metadata": {},
   "outputs": [
    {
     "data": {
      "text/plain": [
       "(2484, 2)"
      ]
     },
     "execution_count": 9,
     "metadata": {},
     "output_type": "execute_result"
    }
   ],
   "source": [
    "df.shape"
   ]
  },
  {
   "cell_type": "code",
   "execution_count": 10,
   "id": "94460a14-89a2-403a-aac0-255f0db95237",
   "metadata": {},
   "outputs": [],
   "source": [
    "df.drop(656, inplace=True)"
   ]
  },
  {
   "cell_type": "code",
   "execution_count": 11,
   "id": "232dd178-f509-4bb2-9940-86506bcf5938",
   "metadata": {},
   "outputs": [
    {
     "data": {
      "text/plain": [
       "(2483, 2)"
      ]
     },
     "execution_count": 11,
     "metadata": {},
     "output_type": "execute_result"
    }
   ],
   "source": [
    "df.shape"
   ]
  },
  {
   "cell_type": "code",
   "execution_count": 12,
   "id": "4b38d4c5-280f-4f2f-bfb4-c8d8c125e799",
   "metadata": {},
   "outputs": [
    {
     "data": {
      "text/plain": [
       "<bound method DataFrame.info of                                                  Resume  Category\n",
       "0     HR ADMINISTRATOR/MARKETING ASSOCIATE\\n\\nHR ADM...        HR\n",
       "1     HR SPECIALIST, US HR OPERATIONS       Summary ...        HR\n",
       "2     HR DIRECTOR       Summary      Over 20 years e...        HR\n",
       "3     HR SPECIALIST       Summary    Dedicated, Driv...        HR\n",
       "4     HR MANAGER         Skill Highlights           ...        HR\n",
       "...                                                 ...       ...\n",
       "2479  RANK: SGT/E-5 NON- COMMISSIONED OFFICER IN CHA...  AVIATION\n",
       "2480  GOVERNMENT RELATIONS, COMMUNICATIONS AND ORGAN...  AVIATION\n",
       "2481  GEEK SQUAD AGENT         Professional Profile ...  AVIATION\n",
       "2482  PROGRAM DIRECTOR / OFFICE MANAGER           Su...  AVIATION\n",
       "2483  STOREKEEPER II       Professional Summary    T...  AVIATION\n",
       "\n",
       "[2483 rows x 2 columns]>"
      ]
     },
     "execution_count": 12,
     "metadata": {},
     "output_type": "execute_result"
    }
   ],
   "source": [
    "df.info"
   ]
  },
  {
   "cell_type": "code",
   "execution_count": 13,
   "id": "636106bf-ace4-4db9-86e3-c954e9f4fa1e",
   "metadata": {},
   "outputs": [],
   "source": [
    "df.to_csv('resume_classifier.csv')  # for my further anolysis\n",
    "\n",
    "df=pd.read_csv('resume_classifier.csv', sep=',', index_col = 0)"
   ]
  },
  {
   "cell_type": "code",
   "execution_count": 14,
   "id": "ee91a675-8260-4eaa-a993-d1d15d83e27a",
   "metadata": {},
   "outputs": [
    {
     "data": {
      "text/html": [
       "<div>\n",
       "<style scoped>\n",
       "    .dataframe tbody tr th:only-of-type {\n",
       "        vertical-align: middle;\n",
       "    }\n",
       "\n",
       "    .dataframe tbody tr th {\n",
       "        vertical-align: top;\n",
       "    }\n",
       "\n",
       "    .dataframe thead th {\n",
       "        text-align: right;\n",
       "    }\n",
       "</style>\n",
       "<table border=\"1\" class=\"dataframe\">\n",
       "  <thead>\n",
       "    <tr style=\"text-align: right;\">\n",
       "      <th></th>\n",
       "      <th>Resume</th>\n",
       "      <th>Category</th>\n",
       "    </tr>\n",
       "  </thead>\n",
       "  <tbody>\n",
       "    <tr>\n",
       "      <th>0</th>\n",
       "      <td>HR ADMINISTRATOR/MARKETING ASSOCIATE\\n\\nHR ADM...</td>\n",
       "      <td>HR</td>\n",
       "    </tr>\n",
       "    <tr>\n",
       "      <th>1</th>\n",
       "      <td>HR SPECIALIST, US HR OPERATIONS       Summary ...</td>\n",
       "      <td>HR</td>\n",
       "    </tr>\n",
       "    <tr>\n",
       "      <th>2</th>\n",
       "      <td>HR DIRECTOR       Summary      Over 20 years e...</td>\n",
       "      <td>HR</td>\n",
       "    </tr>\n",
       "    <tr>\n",
       "      <th>3</th>\n",
       "      <td>HR SPECIALIST       Summary    Dedicated, Driv...</td>\n",
       "      <td>HR</td>\n",
       "    </tr>\n",
       "    <tr>\n",
       "      <th>4</th>\n",
       "      <td>HR MANAGER         Skill Highlights           ...</td>\n",
       "      <td>HR</td>\n",
       "    </tr>\n",
       "    <tr>\n",
       "      <th>...</th>\n",
       "      <td>...</td>\n",
       "      <td>...</td>\n",
       "    </tr>\n",
       "    <tr>\n",
       "      <th>2479</th>\n",
       "      <td>RANK: SGT/E-5 NON- COMMISSIONED OFFICER IN CHA...</td>\n",
       "      <td>AVIATION</td>\n",
       "    </tr>\n",
       "    <tr>\n",
       "      <th>2480</th>\n",
       "      <td>GOVERNMENT RELATIONS, COMMUNICATIONS AND ORGAN...</td>\n",
       "      <td>AVIATION</td>\n",
       "    </tr>\n",
       "    <tr>\n",
       "      <th>2481</th>\n",
       "      <td>GEEK SQUAD AGENT         Professional Profile ...</td>\n",
       "      <td>AVIATION</td>\n",
       "    </tr>\n",
       "    <tr>\n",
       "      <th>2482</th>\n",
       "      <td>PROGRAM DIRECTOR / OFFICE MANAGER           Su...</td>\n",
       "      <td>AVIATION</td>\n",
       "    </tr>\n",
       "    <tr>\n",
       "      <th>2483</th>\n",
       "      <td>STOREKEEPER II       Professional Summary    T...</td>\n",
       "      <td>AVIATION</td>\n",
       "    </tr>\n",
       "  </tbody>\n",
       "</table>\n",
       "<p>2483 rows × 2 columns</p>\n",
       "</div>"
      ],
      "text/plain": [
       "                                                 Resume  Category\n",
       "0     HR ADMINISTRATOR/MARKETING ASSOCIATE\\n\\nHR ADM...        HR\n",
       "1     HR SPECIALIST, US HR OPERATIONS       Summary ...        HR\n",
       "2     HR DIRECTOR       Summary      Over 20 years e...        HR\n",
       "3     HR SPECIALIST       Summary    Dedicated, Driv...        HR\n",
       "4     HR MANAGER         Skill Highlights           ...        HR\n",
       "...                                                 ...       ...\n",
       "2479  RANK: SGT/E-5 NON- COMMISSIONED OFFICER IN CHA...  AVIATION\n",
       "2480  GOVERNMENT RELATIONS, COMMUNICATIONS AND ORGAN...  AVIATION\n",
       "2481  GEEK SQUAD AGENT         Professional Profile ...  AVIATION\n",
       "2482  PROGRAM DIRECTOR / OFFICE MANAGER           Su...  AVIATION\n",
       "2483  STOREKEEPER II       Professional Summary    T...  AVIATION\n",
       "\n",
       "[2483 rows x 2 columns]"
      ]
     },
     "execution_count": 14,
     "metadata": {},
     "output_type": "execute_result"
    }
   ],
   "source": [
    "df"
   ]
  },
  {
   "cell_type": "code",
   "execution_count": 15,
   "id": "1c9bf80f-06a8-484b-b6bd-6d838bddf011",
   "metadata": {},
   "outputs": [],
   "source": [
    "# Load the dataframe in Hugging Face format\n",
    "dataset = Dataset.from_pandas(df)"
   ]
  },
  {
   "cell_type": "code",
   "execution_count": 16,
   "id": "fd525b8e-a20a-4f56-b010-fcd0ee70a574",
   "metadata": {},
   "outputs": [
    {
     "data": {
      "text/plain": [
       "Dataset({\n",
       "    features: ['Resume', 'Category', '__index_level_0__'],\n",
       "    num_rows: 2483\n",
       "})"
      ]
     },
     "execution_count": 16,
     "metadata": {},
     "output_type": "execute_result"
    }
   ],
   "source": [
    "dataset"
   ]
  },
  {
   "cell_type": "code",
   "execution_count": 17,
   "id": "7d69295f-27b9-4523-8b2c-05f17877c8e7",
   "metadata": {},
   "outputs": [
    {
     "name": "stdout",
     "output_type": "stream",
     "text": [
      "Train DataFrame size: 1738\n",
      "Test DataFrame size: 499\n",
      "Validation DataFrame size: 246\n"
     ]
    }
   ],
   "source": [
    "from sklearn.model_selection import train_test_split\n",
    "\n",
    "# Assuming df is your DataFrame\n",
    "# Splitting into 70% train, 30% remaining\n",
    "train_df, remaining_df = train_test_split(df, test_size=0.3, random_state=42)\n",
    "\n",
    "# Splitting the remaining 30% into 20% and 10%\n",
    "test_df, validation_df = train_test_split(remaining_df, test_size=0.33, random_state=42)\n",
    "\n",
    "# Displaying sizes of each split\n",
    "print(\"Train DataFrame size:\", len(train_df))\n",
    "print(\"Test DataFrame size:\", len(test_df))\n",
    "print(\"Validation DataFrame size:\", len(validation_df))"
   ]
  },
  {
   "cell_type": "code",
   "execution_count": 18,
   "id": "2644bd92-f6cd-46ce-9602-c7a368759d36",
   "metadata": {},
   "outputs": [],
   "source": [
    "train_s=Dataset.from_pandas(train_df)\n",
    "test_s=Dataset.from_pandas(test_df)\n",
    "validation_s=Dataset.from_pandas(validation_df)"
   ]
  },
  {
   "cell_type": "code",
   "execution_count": 19,
   "id": "ebfd6f17-a1bf-47d5-bc05-90b4b23f66fe",
   "metadata": {},
   "outputs": [
    {
     "data": {
      "text/plain": [
       "Dataset({\n",
       "    features: ['Resume', 'Category', '__index_level_0__'],\n",
       "    num_rows: 1738\n",
       "})"
      ]
     },
     "execution_count": 19,
     "metadata": {},
     "output_type": "execute_result"
    }
   ],
   "source": [
    "train_s"
   ]
  },
  {
   "cell_type": "code",
   "execution_count": 20,
   "id": "d83e525d-d754-4934-b8f8-2ddfe940fa87",
   "metadata": {},
   "outputs": [
    {
     "data": {
      "text/plain": [
       "Dataset({\n",
       "    features: ['Resume', 'Category', '__index_level_0__'],\n",
       "    num_rows: 246\n",
       "})"
      ]
     },
     "execution_count": 20,
     "metadata": {},
     "output_type": "execute_result"
    }
   ],
   "source": [
    "validation_s"
   ]
  },
  {
   "cell_type": "code",
   "execution_count": 21,
   "id": "c754fbde-89a9-4cac-8281-9e08e80ffdd5",
   "metadata": {},
   "outputs": [],
   "source": [
    "train_s = train_s.remove_columns('__index_level_0__')\n",
    "test_s = test_s.remove_columns('__index_level_0__')\n",
    "validation_s = validation_s.remove_columns('__index_level_0__')"
   ]
  },
  {
   "cell_type": "code",
   "execution_count": 22,
   "id": "2bb8c0f4-cb16-4b21-aa9d-493d6a1ab9ce",
   "metadata": {},
   "outputs": [
    {
     "data": {
      "text/plain": [
       "Dataset({\n",
       "    features: ['Resume', 'Category'],\n",
       "    num_rows: 499\n",
       "})"
      ]
     },
     "execution_count": 22,
     "metadata": {},
     "output_type": "execute_result"
    }
   ],
   "source": [
    "test_s"
   ]
  },
  {
   "cell_type": "code",
   "execution_count": 23,
   "id": "fdb99157-08ef-4b89-8a84-efa34bbe51ba",
   "metadata": {},
   "outputs": [],
   "source": [
    "ds=DatasetDict()"
   ]
  },
  {
   "cell_type": "code",
   "execution_count": 24,
   "id": "95383bf5-f50c-48fe-8dfb-ef5e1d5e7b2e",
   "metadata": {},
   "outputs": [],
   "source": [
    "ds['train']=train_s\n",
    "ds['validation']=validation_s\n",
    "ds['test']=test_s"
   ]
  },
  {
   "cell_type": "code",
   "execution_count": 25,
   "id": "1a9a97ed-978c-4d00-ada4-bc4a5242c90a",
   "metadata": {
    "scrolled": true
   },
   "outputs": [
    {
     "data": {
      "text/plain": [
       "DatasetDict({\n",
       "    train: Dataset({\n",
       "        features: ['Resume', 'Category'],\n",
       "        num_rows: 1738\n",
       "    })\n",
       "    validation: Dataset({\n",
       "        features: ['Resume', 'Category'],\n",
       "        num_rows: 246\n",
       "    })\n",
       "    test: Dataset({\n",
       "        features: ['Resume', 'Category'],\n",
       "        num_rows: 499\n",
       "    })\n",
       "})"
      ]
     },
     "execution_count": 25,
     "metadata": {},
     "output_type": "execute_result"
    }
   ],
   "source": [
    "ds"
   ]
  },
  {
   "cell_type": "code",
   "execution_count": 26,
   "id": "ea576eaa-d89c-4e6f-a8bd-dbb4bed4ba8e",
   "metadata": {
    "scrolled": true
   },
   "outputs": [
    {
     "data": {
      "text/plain": [
       "{'Resume': \"SERGEANT E-5 AVIATION SUPPLY SPECIALIST       Summary    A highly motivated and ambitious individual\\nable to give timely and accurate advice, guidance and support to team members\\nand individuals. Possess excellent management skills and have the ability to\\nwork with the minimum of supervision whilst supporting fellow team members.\\nHave a proven ability to lead by example, consistently hit targets, improve\\nbest practices and organize time efficiently. Now looking forward to make a\\nfurther contribution as part of your team and am hopeful for the genuine\\nopportunity for progression.      Highlights          Inventory tracking  Budget management  Shipment consolidations planning  Decisive  Inventory control  Warehouse and fulfillment      Results-oriented  Logistics network analysis  Detail-oriented  Strategic planner  Cost reduction  Flexible  Works well independently  Customer service-oriented            Accomplishments     ·\\xa0\\xa0\\nReceived\\na Navy and Marine Corps Achievement Medal while serving as squad leader,2nd\\nPlatoon, Female Engagement Team, 2nd Marine Division (Forward) for having\\ncoordinated three Female Engagement teams and led over 85 missions, engaged\\nmore than 1900 local nationals during 1300 engagements while serving in direct\\nsupport of 3rd Battalion, 2nd Marine Regiment from March 2011 to October 2011.\\n  \\n·\\xa0\\xa0\\nReceived\\nA Navy and Marine Corps Achievement Medal while serving as a Maintenance\\nMaterial Control Expediter while in support of the 31st Marine Expeditionary\\nUnit from January 2009 to July 2009 for uncompromising work ethic, daily\\ndetermination, and unique skill to liaison with both civilian and military\\nsupply systems enabling VMA-211 to fully support 31st MEU operations.  \\n\\n·\\xa0\\xa0\\nReceived\\na Certificate of Commendation while serving as Expeditionary Airfields Supply\\nWarehouse Clerk during the Commanding Generals Inspection 2 August 2010 to 6\\nAugust 2010 for superior leadership, organizational skills and managerial\\nabilities.  \\n\\n·\\xa0\\xa0\\nReceived\\na Letter of Appreciation for volunteering to teach, mentor, and educate newly\\npromoted Corporals within the Marine Wing Support Squadron 271 during the\\nSquadron's Non-Commissioned Officer Transition Course on NCO Suicide\\nPrevention.       Experience     07/2013   to   07/2015     Company Name          Order, track, receive, and distribute Organizational Level Maintenance consumable and repairable material for AV-8B Harrier whilst in Phase Maintenance Inspection.  Plan inventory management technique to avoid shortages and excesses.  In charge of Tool Control Program and Respirator Program, verifying all toolbox inventories, respirators, logs and that records are up to date, broken tool reports and daily All Tools Are Accounted For logs are properly filled.  Prepared required documentation for all issue or turn-in consumable and repairable components.  Assist in Annual AMMT by Identifying Shelf-Life items, ensuring correct inventory on PEB, and organized all Electro Static Discharge safe areas within federal safety regulations.  Researched and requisitioned squadron requirements through NALCOMIS OOMA.  Tracked Pre-Expended Bin replenishments and requisitions via NALCOMIS OOMA and Legacy.  Compiled reconciliation reports and provided briefings and debriefings.  Assisted in the resolution of customer complaints.  Brief requisition delivery dates to supervisors and workers on a weekly basis supplying critical information throughout entire scheduling / expediting process.  Maintain records for maintenance and installation.  Develop positive relationship with staffs and customer to meet productivity goals.  Update the Individual Qualifications Records (IQR's) of maintenance personnel.  Documented forms in cases of required emergency assistance within regulations of safety policies and procedures.  In charge of weekly payroll for up to 20 crew workers, diligently ensuring correct input of individuals assigned hours to include annual leave, sick leave and Overtime.         12/2012   to   12/2012     SERGEANT E-5 AVIATION SUPPLY SPECIALIST      Supervised, trained and evaluated personnel Marines to most proficiently support over 10 Marine Aircraft Squadrons and 15 Intermediate Maintenance Activities.  Performed warehouse operation duties including receiving, inspecting, locating, storing, rotating, safekeeping, issuing, preparing, shipping, material return and disposal of supplies and equipment related to support of supply operations.  Received and processed an estimated 1700 High and Low Priority repairable requisitions and Direct Turnovers monthly\\nScreened all squadron requisitions via NALCOMIS and processed for accuracy\\nMaintained an estimate 1700 assets with 100% accountability valued over 170 million dollars.  Managed the receipt and stowage thru the Integrated Barcode System of approximately 10,000 consumable line items with the estimated value of 7.2 million dollars.  Served as the senior supply liaison for VMAQ-3 in direct support of Red Flag, an advanced aerial combat training exercise hosted at Nellis Air Force Base.  Yielded the expeditious procurement of 3.4 million dollars in aircraft assets both locally and abroad.         10/2010   to   01/2012     FEMALE ENGAGEMENT TEAM LIAISON/ PLATOON LEADER    Company Name   －   City  ,   State      Successfully completed a 5 month, Pre-Afghanistan deployment training consisting of an Enhanced Marksmanship Program, Improvised Explosive Device Training, Casualty Assessment, Immediate Action Drills, Combat Lifesaving, Survival, Evasion, Resistance, and Escape Training, Peacetime Governmental Detention/ Hostage Detention, Basic Combat Trauma Training for Tactical Operator, Call for Medevac, Human Terrain Cross Cultural Engagement Training, Combat Lifesaving/ Live Tissue Training, Search Procedures, and Pastu/Dari Language Training all contributing to the completion of a successful tour in Musa Qal'eh.  Served as the Team Leader for the 3rd Battalion, Second Marines District Stabilization Thematic Team, and providing expert guidance during the Battalion's critical health, education, and Intelligence Oversight planning meetings.  Submitted 125 After Action Reports to include a detailed summary of all operations, patrols and engagements that the team participated in within a time frame of 48 hours from the end of the mission via e-mail through a Secret Internet Protocol Router Network to the FET Headquarters in order to provide a timely assessment of all Intel of the Area of Operation.  Coordinated and scheduled the employment for three FETs, a total of six Marines and one Corpsman, each within the Musa Qal'eh District Center, Nowzad District Center and Shir-Ghazay directing the strategic initiatives to achieve the completion and staffing of the first and only Women's Center in Musa Qal'eh which provided a safe location for women and girls to meet and receive literacy and health classes all taught by the FET, to be continued by the local women.  Awards and Recognitions.  Received a Navy and Marine Corps Achievement Medal while serving as squad leader,2nd Platoon, Female Engagement Team, 2nd Marine Division (Forward) for having coordinated three Female Engagement teams and led over 85 missions, engaged more than 1900 local nationals during 1300 engagements while serving in direct support of 3rd Battalion, 2nd Marine Regiment from March 2011 to October 2011.  Received A Navy and Marine Corps Achievement Medal while serving as a Maintenance Material Control Expeditor while in support of the 31st Marine Expeditionary Unit from January 2009 to July 2009 for uncompromising work ethic, daily determination, and unique skill to liaison with both civilian and military supply systems enabling VMA-211 to fully support 31st MEU operations.  Received a Certificate of Commendation while serving as Expeditionary Airfields Supply Warehouse Clerk during the Commanding Generals Inspection 2 August 2010 to 6 August 2010 for superior leadership, organizational skills and managerial abilities.  Received a Letter of Appreciation for volunteering to teach, mentor, and educate newly promoted Corporals within the Marine Wing Support Squadron 271 during the Squadron's Non-Commissioned Officer Transition Course on NCO Suicide Prevention.          Education          Specialized Training/ Certificates/ Licenses/ Permits\\nMarine Aviation Supply School, USMC\\nLance Corporal Leadership Course, USMC\\nNon-Commissioned Officers Leadership Course, USMC\\nSergeants Distance Education Program, USMC\\nStaff Non-commissioned Officer Career Distance Education, USMC\\nNaval Aviation Material Control Management, USMC\\nLean Six Sigma AirSpeed White Belt Course, USN\\nLean Six Sigma AirSpeed Yellow Belt Course, USN\\n24-Hour Hazardous Material Handler's Course, USMC\\nActive Forklift License              Willing to travel or relocate.      Skills    Air Force, Basic, Computer literate, delivery, directing, documentation, e-mail, Forklift, forms, frame, Inspection 2, inspecting, Inspection, Intel, inventory management, inventory, Leadership, Team Leader, logistics, managerial, meetings, mentor, Access, Excel, Office, Outlook, PowerPoint, Word, Navy, Naval, Network, organizational skills, Organizational, payroll, personnel, policies, procurement, receiving, Maintain records, Router, safety, scheduling, shipping, Six Sigma, staffing, strategic, supervisory, Trauma, unique      Additional Information      Possess a valid DOD Secret Security Clearance. Willing to travel or relocate.\",\n",
       " 'Category': 'AVIATION'}"
      ]
     },
     "execution_count": 26,
     "metadata": {},
     "output_type": "execute_result"
    }
   ],
   "source": [
    "ds['test'][1]"
   ]
  },
  {
   "cell_type": "code",
   "execution_count": 27,
   "id": "22c3676a-607f-4098-b89f-fdc87a9067ab",
   "metadata": {},
   "outputs": [
    {
     "data": {
      "application/vnd.jupyter.widget-view+json": {
       "model_id": "7d73a5344e0b43cf892e6066966b3d3b",
       "version_major": 2,
       "version_minor": 0
      },
      "text/plain": [
       "VBox(children=(HTML(value='<center> <img\\nsrc=https://huggingface.co/front/assets/huggingface_logo-noborder.sv…"
      ]
     },
     "metadata": {},
     "output_type": "display_data"
    }
   ],
   "source": [
    "from huggingface_hub import notebook_login\n",
    "notebook_login()"
   ]
  },
  {
   "cell_type": "code",
   "execution_count": 28,
   "id": "e7948122-e638-4b04-abdf-3e716288b877",
   "metadata": {},
   "outputs": [
    {
     "data": {
      "application/vnd.jupyter.widget-view+json": {
       "model_id": "8c5168e0c1d44099aa2602ad40681b20",
       "version_major": 2,
       "version_minor": 0
      },
      "text/plain": [
       "Uploading the dataset shards:   0%|          | 0/1 [00:00<?, ?it/s]"
      ]
     },
     "metadata": {},
     "output_type": "display_data"
    },
    {
     "data": {
      "application/vnd.jupyter.widget-view+json": {
       "model_id": "1f5f5ed11019454ba51c0c93ffe4dc15",
       "version_major": 2,
       "version_minor": 0
      },
      "text/plain": [
       "Creating parquet from Arrow format:   0%|          | 0/2 [00:00<?, ?ba/s]"
      ]
     },
     "metadata": {},
     "output_type": "display_data"
    },
    {
     "data": {
      "application/vnd.jupyter.widget-view+json": {
       "model_id": "50fd33a0e0984abfb92e03a5991ced62",
       "version_major": 2,
       "version_minor": 0
      },
      "text/plain": [
       "Uploading the dataset shards:   0%|          | 0/1 [00:00<?, ?it/s]"
      ]
     },
     "metadata": {},
     "output_type": "display_data"
    },
    {
     "data": {
      "application/vnd.jupyter.widget-view+json": {
       "model_id": "117a06b66f5941b3bcab79bea9beb87a",
       "version_major": 2,
       "version_minor": 0
      },
      "text/plain": [
       "Creating parquet from Arrow format:   0%|          | 0/1 [00:00<?, ?ba/s]"
      ]
     },
     "metadata": {},
     "output_type": "display_data"
    },
    {
     "data": {
      "application/vnd.jupyter.widget-view+json": {
       "model_id": "3ed64f9feb2a494a99e9c848cf0485d1",
       "version_major": 2,
       "version_minor": 0
      },
      "text/plain": [
       "Uploading the dataset shards:   0%|          | 0/1 [00:00<?, ?it/s]"
      ]
     },
     "metadata": {},
     "output_type": "display_data"
    },
    {
     "data": {
      "application/vnd.jupyter.widget-view+json": {
       "model_id": "c50d310721fd4966a92cc1ce8c5adaa0",
       "version_major": 2,
       "version_minor": 0
      },
      "text/plain": [
       "Creating parquet from Arrow format:   0%|          | 0/1 [00:00<?, ?ba/s]"
      ]
     },
     "metadata": {},
     "output_type": "display_data"
    },
    {
     "data": {
      "text/plain": [
       "CommitInfo(commit_url='https://huggingface.co/datasets/K45lim/resume_classifierV1/commit/65294415a460a49653b23739622bb87b5221c74e', commit_message='Upload dataset', commit_description='', oid='65294415a460a49653b23739622bb87b5221c74e', pr_url=None, pr_revision=None, pr_num=None)"
      ]
     },
     "execution_count": 28,
     "metadata": {},
     "output_type": "execute_result"
    }
   ],
   "source": [
    "ds.push_to_hub(\"resume_classifierV1\")"
   ]
  },
  {
   "cell_type": "code",
   "execution_count": null,
   "id": "66dfd888-2141-48f2-8773-de911ea57704",
   "metadata": {},
   "outputs": [],
   "source": []
  }
 ],
 "metadata": {
  "kernelspec": {
   "display_name": "Python 3 (ipykernel)",
   "language": "python",
   "name": "python3"
  },
  "language_info": {
   "codemirror_mode": {
    "name": "ipython",
    "version": 3
   },
   "file_extension": ".py",
   "mimetype": "text/x-python",
   "name": "python",
   "nbconvert_exporter": "python",
   "pygments_lexer": "ipython3",
   "version": "3.10.13"
  }
 },
 "nbformat": 4,
 "nbformat_minor": 5
}
